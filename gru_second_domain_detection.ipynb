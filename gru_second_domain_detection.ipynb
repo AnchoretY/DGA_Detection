{
 "cells": [
  {
   "cell_type": "code",
   "execution_count": 1,
   "metadata": {},
   "outputs": [],
   "source": [
    "#============\n",
    "# 导入所需的包\n",
    "#============\n",
    "import string\n",
    "import pandas as pd\n",
    "import torch\n",
    "import torch.nn as nn\n",
    "import torch.nn.functional as F\n",
    "import torch.optim as optim\n",
    "import numpy as np\n",
    "from Data_Mining_Toolbox.dl_helper import *\n",
    "from Data_Mining_Toolbox.plot_helper import *\n",
    "from Data_Mining_Toolbox.common import string_to_index\n",
    "\n",
    "torch.cuda.set_device(1)"
   ]
  },
  {
   "cell_type": "code",
   "execution_count": 2,
   "metadata": {},
   "outputs": [],
   "source": [
    "def second_domain(input_data):\n",
    "    second_domain = input_data.split(\".\")[0]\n",
    "    return second_domain"
   ]
  },
  {
   "cell_type": "code",
   "execution_count": 3,
   "metadata": {},
   "outputs": [
    {
     "name": "stderr",
     "output_type": "stream",
     "text": [
      "/home/yhk/env_python3.7/lib/python3.7/site-packages/IPython/core/interactiveshell.py:3058: DtypeWarning: Columns (0,2,4) have mixed types. Specify dtype option on import or set low_memory=False.\n",
      "  interactivity=interactivity, compiler=compiler, result=result)\n"
     ]
    }
   ],
   "source": [
    "#============\n",
    "# 读取实验数据\n",
    "#============\n",
    "df_train = pd.read_csv(\"./data/train_set.csv\")\n",
    "df_val = pd.read_csv(\"./data/val_set.csv\")\n",
    "df_test = pd.read_csv(\"./data/test_set.csv\")"
   ]
  },
  {
   "cell_type": "code",
   "execution_count": 4,
   "metadata": {},
   "outputs": [],
   "source": [
    "df_train['second_domain'] = df_train.apply(lambda x:second_domain(x.domain),axis=1)\n",
    "df_val['second_domain'] = df_val.apply(lambda x:second_domain(x.domain),axis=1)\n",
    "df_test['second_domain'] = df_test.apply(lambda x:second_domain(x.domain),axis=1)"
   ]
  },
  {
   "cell_type": "code",
   "execution_count": 5,
   "metadata": {},
   "outputs": [],
   "source": [
    "#=======================\n",
    "# 定义生成模型输入向量的函数\n",
    "#=======================\n",
    "def get_input(df, max_len, with_label=True):\n",
    "    x = string_to_index(df['second_domain'].values,max_len)\n",
    "    y = df['label'].values\n",
    "    x = torch.autograd.Variable(torch.LongTensor(x)).cuda()\n",
    "    if with_label:\n",
    "        y = torch.autograd.Variable(torch.LongTensor(y)).cuda()\n",
    "        return x, y\n",
    "    else:\n",
    "        return x\n",
    "\n",
    "# 生成输入向量\n",
    "train_x, train_y = get_input(df_train, 50)\n",
    "val_x, val_y = get_input(df_val, 50)\n",
    "test_x, test_y = get_input(df_test, 50)"
   ]
  },
  {
   "cell_type": "code",
   "execution_count": 6,
   "metadata": {},
   "outputs": [],
   "source": [
    "#================\n",
    "# 定义RNN的网络结构\n",
    "#================\n",
    "class GRUNet(nn.Module):\n",
    "    \n",
    "    def __init__(self, chars_num, encode_dim, hidden_size):\n",
    "        super(GRUNet, self).__init__()\n",
    "        self.embedding = nn.Embedding(chars_num, encode_dim)\n",
    "        self.features = nn.GRU(input_size=encode_dim, hidden_size=hidden_size, num_layers=1)\n",
    "        self.classifier = nn.Linear(hidden_size, 2)\n",
    "        \n",
    "    def forward(self, x):\n",
    "        x = self.embedding(x)\n",
    "        x = x.permute(1, 0, 2)\n",
    "        x, _ = self.features(x)\n",
    "        x = x.contiguous().float()\n",
    "        x = x[-1].view(x[-1].size(0), -1)\n",
    "        x = F.dropout(x, p=0.5)\n",
    "        x = self.classifier(x)\n",
    "        return x"
   ]
  },
  {
   "cell_type": "code",
   "execution_count": 7,
   "metadata": {},
   "outputs": [],
   "source": [
    "#========\n",
    "# 训练模型\n",
    "#========\n",
    "\n",
    "# 重要: char_num=len(chars) + 1 不然有越界错误，GPU异常报错xid error\n",
    "char_num=len(string.printable) + 1\n",
    "model = GRUNet(chars_num=char_num, encode_dim=128, hidden_size=128).cuda(1)\n",
    "optimizer = optim.Adam(params=model.parameters(), lr=0.0001, weight_decay=0.00001)"
   ]
  },
  {
   "cell_type": "code",
   "execution_count": null,
   "metadata": {},
   "outputs": [],
   "source": [
    "train(model,train_x,train_y,val_x,val_y, epochs=100, batch_size=256,\\\n",
    "      save_prefix=\"{}-second-domain\".format(model.__class__.__name__))"
   ]
  },
  {
   "cell_type": "code",
   "execution_count": 8,
   "metadata": {},
   "outputs": [
    {
     "data": {
      "text/html": [
       "<div>\n",
       "<style scoped>\n",
       "    .dataframe tbody tr th:only-of-type {\n",
       "        vertical-align: middle;\n",
       "    }\n",
       "\n",
       "    .dataframe tbody tr th {\n",
       "        vertical-align: top;\n",
       "    }\n",
       "\n",
       "    .dataframe thead th {\n",
       "        text-align: right;\n",
       "    }\n",
       "</style>\n",
       "<table border=\"1\" class=\"dataframe\">\n",
       "  <thead>\n",
       "    <tr style=\"text-align: right;\">\n",
       "      <th></th>\n",
       "      <th>model</th>\n",
       "      <th>epoch</th>\n",
       "      <th>tp</th>\n",
       "      <th>fp</th>\n",
       "      <th>tn</th>\n",
       "      <th>fn</th>\n",
       "      <th>precision</th>\n",
       "      <th>recall</th>\n",
       "      <th>auc</th>\n",
       "    </tr>\n",
       "  </thead>\n",
       "  <tbody>\n",
       "    <tr>\n",
       "      <th>0</th>\n",
       "      <td>GRUNet</td>\n",
       "      <td>20</td>\n",
       "      <td>228973</td>\n",
       "      <td>9746</td>\n",
       "      <td>489907</td>\n",
       "      <td>3849</td>\n",
       "      <td>0.983468</td>\n",
       "      <td>0.959174</td>\n",
       "      <td>0.975689</td>\n",
       "    </tr>\n",
       "    <tr>\n",
       "      <th>1</th>\n",
       "      <td>GRUNet</td>\n",
       "      <td>40</td>\n",
       "      <td>228981</td>\n",
       "      <td>9738</td>\n",
       "      <td>490150</td>\n",
       "      <td>3606</td>\n",
       "      <td>0.984496</td>\n",
       "      <td>0.959207</td>\n",
       "      <td>0.975952</td>\n",
       "    </tr>\n",
       "    <tr>\n",
       "      <th>2</th>\n",
       "      <td>GRUNet</td>\n",
       "      <td>60</td>\n",
       "      <td>228941</td>\n",
       "      <td>9778</td>\n",
       "      <td>489612</td>\n",
       "      <td>4144</td>\n",
       "      <td>0.982221</td>\n",
       "      <td>0.959040</td>\n",
       "      <td>0.975323</td>\n",
       "    </tr>\n",
       "    <tr>\n",
       "      <th>3</th>\n",
       "      <td>GRUNet</td>\n",
       "      <td>80</td>\n",
       "      <td>226917</td>\n",
       "      <td>11802</td>\n",
       "      <td>490968</td>\n",
       "      <td>2788</td>\n",
       "      <td>0.987863</td>\n",
       "      <td>0.950561</td>\n",
       "      <td>0.972457</td>\n",
       "    </tr>\n",
       "    <tr>\n",
       "      <th>4</th>\n",
       "      <td>GRUNet</td>\n",
       "      <td>100</td>\n",
       "      <td>229225</td>\n",
       "      <td>9494</td>\n",
       "      <td>489160</td>\n",
       "      <td>4596</td>\n",
       "      <td>0.980344</td>\n",
       "      <td>0.960229</td>\n",
       "      <td>0.975461</td>\n",
       "    </tr>\n",
       "  </tbody>\n",
       "</table>\n",
       "</div>"
      ],
      "text/plain": [
       "    model  epoch      tp     fp      tn    fn  precision    recall       auc\n",
       "0  GRUNet     20  228973   9746  489907  3849   0.983468  0.959174  0.975689\n",
       "1  GRUNet     40  228981   9738  490150  3606   0.984496  0.959207  0.975952\n",
       "2  GRUNet     60  228941   9778  489612  4144   0.982221  0.959040  0.975323\n",
       "3  GRUNet     80  226917  11802  490968  2788   0.987863  0.950561  0.972457\n",
       "4  GRUNet    100  229225   9494  489160  4596   0.980344  0.960229  0.975461"
      ]
     },
     "execution_count": 8,
     "metadata": {},
     "output_type": "execute_result"
    }
   ],
   "source": [
    "# 比较不同轮数模型效果\n",
    "compare_diff_epoch(model,test_x,test_y,100,\"GRUNet-second-domain\")"
   ]
  },
  {
   "cell_type": "code",
   "execution_count": null,
   "metadata": {},
   "outputs": [],
   "source": []
  },
  {
   "cell_type": "code",
   "execution_count": 10,
   "metadata": {},
   "outputs": [
    {
     "name": "stderr",
     "output_type": "stream",
     "text": [
      "/home/yhk/env_python3.7/lib/python3.7/site-packages/torch/nn/_reduction.py:46: UserWarning: size_average and reduce args will be deprecated, please use reduction='sum' instead.\n",
      "  warnings.warn(warning.format(ret))\n"
     ]
    },
    {
     "name": "stdout",
     "output_type": "stream",
     "text": [
      "test loss: 0.067835 \t 测试准确率: 0.981816\n",
      "              precision    recall  f1-score   support\n",
      "\n",
      "           0   0.980523  0.992745  0.986596    493756\n",
      "           1   0.984598  0.959211  0.971739    238719\n",
      "\n",
      "    accuracy                       0.981816    732475\n",
      "   macro avg   0.982560  0.975978  0.979167    732475\n",
      "weighted avg   0.981851  0.981816  0.981754    732475\n",
      "\n",
      "\n",
      "用时: 9.565704822540283\n"
     ]
    }
   ],
   "source": [
    "# 加载最佳模型参数进行测试集预测\n",
    "model.load_state_dict(torch.load(\"./model/GRUNet-second-domain-model-epoch-40.state\"))\n",
    "start_time = time.time()\n",
    "test_x, test_y = get_input(df_test, 50)\n",
    "test(model, test_x, test_y, batch_size=256)\n",
    "print(\"用时:\", time.time() - start_time)"
   ]
  },
  {
   "cell_type": "markdown",
   "metadata": {},
   "source": [
    "### 查看各个dga家族的预测情况"
   ]
  },
  {
   "cell_type": "code",
   "execution_count": 20,
   "metadata": {},
   "outputs": [],
   "source": [
    "def print_family_recall(df,dga_family):\n",
    "    correct_nums = df_test[(df_test['label']==df_test['pred'])&(df_test['dga_family']==dga_family)].shape[0]\n",
    "    family_nums = df_test[df_test['dga_family']==dga_family].shape[0]\n",
    "    error_nums = family_nums - correct_nums\n",
    "    return correct_nums/(family_nums+1),correct_nums,error_nums"
   ]
  },
  {
   "cell_type": "code",
   "execution_count": 21,
   "metadata": {},
   "outputs": [
    {
     "name": "stdout",
     "output_type": "stream",
     "text": [
      "nymaim:0.7973\t354\t89\n",
      "symmi:0.6885\t2931\t1325\n",
      "conficker:0.7537\t352\t114\n",
      "madmax:0.0\t0\t1\n",
      "suppobox:0.0812\t175\t1979\n",
      "virut:0.6637\t6471\t3278\n",
      "matsnu:0.0\t0\t27\n",
      "blackhole:0.6667\t2\t0\n",
      "xshellghost:0.6667\t2\t0\n",
      "ccleaner:0.0\t0\t2\n",
      "mydoom:0.7447\t35\t11\n",
      "simda:0.5\t1\t0\n",
      "banjori:0.525\t42\t37\n",
      "vawtrak:0.6947\t355\t155\n",
      "enviserv:0.0423\t21\t474\n",
      "nan:0.0\t0\t0\n"
     ]
    }
   ],
   "source": [
    "pred = predict(model,test_x,256)\n",
    "df_test['pred'] = pred\n",
    "\n",
    "for family in df_test['dga_family'].drop_duplicates().values:\n",
    "    recall,correct_nums,error_nums = print_family_recall(df_test,family)\n",
    "    if recall<0.8:\n",
    "        print(\"{}:{}\\t{}\\t{}\".format(family,round(recall,4),correct_nums,error_nums))"
   ]
  }
 ],
 "metadata": {
  "kernelspec": {
   "display_name": "Python 3",
   "language": "python",
   "name": "python3"
  },
  "language_info": {
   "codemirror_mode": {
    "name": "ipython",
    "version": 3
   },
   "file_extension": ".py",
   "mimetype": "text/x-python",
   "name": "python",
   "nbconvert_exporter": "python",
   "pygments_lexer": "ipython3",
   "version": "3.7.1rc2"
  }
 },
 "nbformat": 4,
 "nbformat_minor": 2
}
