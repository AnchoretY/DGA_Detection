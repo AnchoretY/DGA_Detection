{
 "cells": [
  {
   "cell_type": "markdown",
   "metadata": {},
   "source": [
    "数据:  \n",
    "1. netlab_dga_2018.csv 360netlab,两年前公布的dga数据集\n",
    "2. netlab_dga_2020.txt 360netlab最新发布的dga数据集\n",
    "3. alex域名\n",
    "\n",
    "数据划分:\n",
    "1. normal_domain 7：3划分，7用来构建训练接和验证集，3用来构建测试集，其中7在7：3用来作为训练集测试集白样本\n",
    "2. dga_domain 7:3划分，7用来构建训练集、3用来构建验证集\n",
    "3. 使用netlab新增出来dga域名作为测试集黑样本，normal_domain 3作为白样本，构成测试集"
   ]
  },
  {
   "cell_type": "code",
   "execution_count": 1,
   "metadata": {},
   "outputs": [],
   "source": [
    "import pandas as pd\n",
    "from sklearn.model_selection import train_test_split\n",
    "from sklearn.utils import shuffle"
   ]
  },
  {
   "cell_type": "code",
   "execution_count": 38,
   "metadata": {},
   "outputs": [],
   "source": [
    "df_normal = pd.read_csv(\"data/normal_domain.csv\")\n",
    "df_dga_old = pd.read_csv(\"data/netlab_dga_2018.csv\")\n",
    "df_dga_new = pd.read_csv(\"data/netlab_dga_2020.txt\",skiprows=18,sep='\\t',names=['dga_family','domain','s_time','e_time'])"
   ]
  },
  {
   "cell_type": "code",
   "execution_count": 40,
   "metadata": {},
   "outputs": [],
   "source": [
    "df_normal['label'] = 0\n",
    "df_dga_old['label'] = 1\n",
    "df_dga_new['label'] = 1"
   ]
  },
  {
   "cell_type": "markdown",
   "metadata": {},
   "source": [
    "### 构建训练集和验证集"
   ]
  },
  {
   "cell_type": "code",
   "execution_count": 46,
   "metadata": {},
   "outputs": [],
   "source": [
    "df_train_normal,df_test_normal = train_test_split(df_normal,test_size=0.3,random_state=2020)\n",
    "df_train_val = pd.concat([df_train_normal,df_dga_old],axis=0)\n",
    "\n",
    "df_train,df_val = train_test_split(df_train_val,test_size=0.3,random_state=2020)\n",
    "df_train.to_csv(\"data/train_set.csv\",index=False)\n",
    "df_val.to_csv(\"data/val_set.csv\",index=False)"
   ]
  },
  {
   "cell_type": "markdown",
   "metadata": {},
   "source": [
    "### 构建测试集"
   ]
  },
  {
   "cell_type": "code",
   "execution_count": 52,
   "metadata": {},
   "outputs": [
    {
     "data": {
      "text/plain": [
       "(238719, 5)"
      ]
     },
     "execution_count": 52,
     "metadata": {},
     "output_type": "execute_result"
    }
   ],
   "source": [
    "old_dga_domain = df_dga_old[['domain']].to_dict('list')['domain']\n",
    "dga_new = df_dga_new[~df_dga_new['domain'].isin(old_dga_domain)]\n",
    "df_test = pd.concat([dga_new,df_test_normal],axis=0)\n",
    "df_test.to_csv(\"data/test_set.csv\",index=False)"
   ]
  },
  {
   "cell_type": "code",
   "execution_count": 56,
   "metadata": {},
   "outputs": [
    {
     "name": "stderr",
     "output_type": "stream",
     "text": [
      "/home/yhk/env_python3.7/lib/python3.7/site-packages/ipykernel_launcher.py:1: FutureWarning: Sorting because non-concatenation axis is not aligned. A future version\n",
      "of pandas will change to not sort by default.\n",
      "\n",
      "To accept the future behavior, pass 'sort=False'.\n",
      "\n",
      "To retain the current behavior and silence the warning, pass 'sort=True'.\n",
      "\n",
      "  \"\"\"Entry point for launching an IPython kernel.\n"
     ]
    }
   ],
   "source": []
  },
  {
   "cell_type": "code",
   "execution_count": null,
   "metadata": {},
   "outputs": [],
   "source": []
  },
  {
   "cell_type": "code",
   "execution_count": 58,
   "metadata": {},
   "outputs": [
    {
     "data": {
      "text/plain": [
       "'/home/yhk/env3py/jupyter_program/dga'"
      ]
     },
     "execution_count": 58,
     "metadata": {},
     "output_type": "execute_result"
    }
   ],
   "source": [
    "pwd"
   ]
  },
  {
   "cell_type": "code",
   "execution_count": null,
   "metadata": {},
   "outputs": [],
   "source": []
  }
 ],
 "metadata": {
  "kernelspec": {
   "display_name": "Python 3",
   "language": "python",
   "name": "python3"
  },
  "language_info": {
   "codemirror_mode": {
    "name": "ipython",
    "version": 3
   },
   "file_extension": ".py",
   "mimetype": "text/x-python",
   "name": "python",
   "nbconvert_exporter": "python",
   "pygments_lexer": "ipython3",
   "version": "3.7.1rc2"
  }
 },
 "nbformat": 4,
 "nbformat_minor": 2
}
